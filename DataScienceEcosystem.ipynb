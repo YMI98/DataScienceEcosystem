{
 "cells": [
  {
   "cell_type": "markdown",
   "id": "048b0920-de8f-4365-8fd5-11391d1ad753",
   "metadata": {
    "tags": []
   },
   "source": [
    "# Data Science Tools and Ecosystem"
   ]
  },
  {
   "cell_type": "markdown",
   "id": "67ca3e2c-904f-406a-a84e-0a66d65775c3",
   "metadata": {},
   "source": [
    "In this notebook, Data Science Tools and Ecosystem are summarized.\n",
    "* Python \n",
    "* R\n",
    "* Julia"
   ]
  },
  {
   "cell_type": "markdown",
   "id": "d1b0e2db-84a5-4b7c-bccd-c7b92458bec6",
   "metadata": {},
   "source": [
    "**Some of the popular languages that Data Scientists use are:**\n",
    "1. Python \n",
    "2. R\n",
    "3. Julia"
   ]
  },
  {
   "cell_type": "markdown",
   "id": "d4e1dea4-88ee-40ef-a6a8-a4922b0ae101",
   "metadata": {},
   "source": [
    "**Some of the commonly used libraries used by Data Scientists include:**\n",
    "1. ggplot\n",
    "2. dplyr\n",
    "3. caret"
   ]
  },
  {
   "cell_type": "markdown",
   "id": "6414057f-5fec-4b4a-9431-5f2d540dfbc7",
   "metadata": {},
   "source": [
    "|Data Science Tools|\n",
    "|------------------|\n",
    "|Pandas|\n",
    "|Hadoop|\n",
    "|Tensorflow.js|"
   ]
  },
  {
   "cell_type": "markdown",
   "id": "9bdec3ab-c6ec-4596-9e19-c66e0b1a836a",
   "metadata": {},
   "source": [
    "### Below are a few examples of evaluating arithmetic expressions in Python."
   ]
  },
  {
   "cell_type": "code",
   "execution_count": 3,
   "id": "0bc260aa-4fcd-4371-8d95-59013ce589fc",
   "metadata": {
    "tags": []
   },
   "outputs": [
    {
     "data": {
      "text/plain": [
       "17"
      ]
     },
     "execution_count": 3,
     "metadata": {},
     "output_type": "execute_result"
    }
   ],
   "source": [
    "# This a simple arithmetic expression to mutiply then add integers.\n",
    "(3*4)+5"
   ]
  },
  {
   "cell_type": "code",
   "execution_count": 9,
   "id": "eec5a66e-9903-44b6-a888-c94b42eda516",
   "metadata": {
    "tags": []
   },
   "outputs": [
    {
     "data": {
      "text/plain": [
       "3.3333333333333335"
      ]
     },
     "execution_count": 9,
     "metadata": {},
     "output_type": "execute_result"
    }
   ],
   "source": [
    "# This will convert 200 minutes to hours by diving by 60.\n",
    "200/60"
   ]
  },
  {
   "cell_type": "markdown",
   "id": "7c1ef640-af01-4c34-aac2-f07b9906ee13",
   "metadata": {},
   "source": [
    "## Author\n",
    "YMI"
   ]
  },
  {
   "cell_type": "code",
   "execution_count": null,
   "id": "1b4c2650-edc6-403b-aefc-58fff49127a9",
   "metadata": {},
   "outputs": [],
   "source": []
  }
 ],
 "metadata": {
  "kernelspec": {
   "display_name": "Python",
   "language": "python",
   "name": "conda-env-python-py"
  },
  "language_info": {
   "codemirror_mode": {
    "name": "ipython",
    "version": 3
   },
   "file_extension": ".py",
   "mimetype": "text/x-python",
   "name": "python",
   "nbconvert_exporter": "python",
   "pygments_lexer": "ipython3",
   "version": "3.7.12"
  }
 },
 "nbformat": 4,
 "nbformat_minor": 5
}
